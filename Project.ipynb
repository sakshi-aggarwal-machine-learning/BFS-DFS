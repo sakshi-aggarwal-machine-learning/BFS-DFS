{
 "cells": [
  {
   "cell_type": "code",
   "execution_count": 2,
   "metadata": {},
   "outputs": [
    {
     "name": "stdout",
     "output_type": "stream",
     "text": [
      "number of isolated nodes: 659\n"
     ]
    }
   ],
   "source": [
    "from pythonds.graphs import Graph\n",
    "import numpy as np\n",
    "\n",
    "def buildGraph(wordFile):\n",
    "    d = {}\n",
    "    g = Graph()\n",
    "    wfile = open(wordFile,'r')\n",
    "    # create buckets of words that differ by one letter\n",
    "    for line in wfile:\n",
    "        word = line[:-1]\n",
    "        for i in range(len(word)):\n",
    "            bucket = word[:i] + '_' + word[i+1:]\n",
    "            if bucket in d:\n",
    "                d[bucket].append(word)\n",
    "            else:\n",
    "                d[bucket] = [word]\n",
    "    # add vertices and edges for words in the same bucket\n",
    "    for bucket in d.keys():\n",
    "        for word1 in d[bucket]:\n",
    "            for word2 in d[bucket]:\n",
    "                if word1 != word2:\n",
    "                    g.addEdge(word1,word2)\n",
    "    count_isolated = 0\n",
    "    wfile = open(wordFile,'r')\n",
    "    for line in wfile:\n",
    "        word = line[:-1]\n",
    "        flag = 0\n",
    "        for i in range(len(word)):\n",
    "            bucket = word[:i] + '_' + word[i+1:]\n",
    "            if len(d[bucket]) > 1:\n",
    "                flag = 1\n",
    "        if flag == 0:\n",
    "            count_isolated+=1\n",
    "    return g, count_isolated\n",
    "g, count_isolated = buildGraph('words5.txt')\n",
    "print(\"number of isolated nodes:\", count_isolated)\n"
   ]
  },
  {
   "cell_type": "code",
   "execution_count": 5,
   "metadata": {},
   "outputs": [
    {
     "name": "stdout",
     "output_type": "stream",
     "text": [
      "dict_keys([<pythonds.graphs.adjGraph.Vertex object at 0x000002870B7AA898>, <pythonds.graphs.adjGraph.Vertex object at 0x000002870B791710>, <pythonds.graphs.adjGraph.Vertex object at 0x000002870B791898>])\n",
      "Maximum degree:  23\n",
      "['cares']\n",
      "3\n"
     ]
    }
   ],
   "source": [
    "degree_dict = {}\n",
    "for v in g:\n",
    "    if len(v.getConnections()) in degree_dict:\n",
    "        degree_dict[len(v.getConnections())].append(v.id)\n",
    "    else:\n",
    "        degree_dict[len(v.getConnections())] = [v.id]\n",
    "max_degree = np.max(list(degree_dict.keys()))\n",
    "print(\"Maximum degree: \",max_degree)\n",
    "print(degree_dict[max_degree])"
   ]
  },
  {
   "cell_type": "code",
   "execution_count": 156,
   "metadata": {},
   "outputs": [],
   "source": [
    "from pythonds.graphs import Graph, Vertex\n",
    "from pythonds.basic import Queue\n",
    "\n",
    "def bfs(g,start):\n",
    "    start.setDistance(0)\n",
    "    start.setPred(None)\n",
    "    vertQueue = Queue()\n",
    "    vertQueue.enqueue(start)\n",
    "    while (vertQueue.size() > 0):\n",
    "    currentVert = vertQueue.dequeue()\n",
    "    for nbr in currentVert.getConnections():\n",
    "        if (nbr.getColor() == 'white'):\n",
    "        nbr.setColor('gray')\n",
    "        nbr.setDistance(currentVert.getDistance() + 1)\n",
    "        nbr.setPred(currentVert)\n",
    "        vertQueue.enqueue(nbr)\n",
    "    currentVert.setColor('black')\n",
    "bfs(g, g.getVertex('study'))"
   ]
  },
  {
   "cell_type": "code",
   "execution_count": 157,
   "metadata": {},
   "outputs": [
    {
     "name": "stdout",
     "output_type": "stream",
     "text": [
      "zooms\n",
      "booms\n",
      "boors\n",
      "boars\n",
      "soars\n",
      "stars\n",
      "stabs\n",
      "stubs\n",
      "studs\n",
      "study\n"
     ]
    }
   ],
   "source": [
    "def traverse(y):\n",
    "    x = y\n",
    "    while (x.getPred()):\n",
    "        print(x.getId())\n",
    "        x = x.getPred()\n",
    "    print(x.getId())\n",
    "\n",
    "traverse(g.getVertex('zooms'))"
   ]
  },
  {
   "cell_type": "code",
   "execution_count": 159,
   "metadata": {},
   "outputs": [
    {
     "name": "stdout",
     "output_type": "stream",
     "text": [
      "Maximum distance:  21\n",
      "['retry']\n"
     ]
    }
   ],
   "source": [
    "distance_dict = {}\n",
    "for v in g:\n",
    "    if v.getColor() == 'black':\n",
    "        if v.getDistance() in distance_dict:\n",
    "            distance_dict[v.getDistance()].append(v.id)\n",
    "        else:\n",
    "            distance_dict[v.getDistance()] = [v.id]\n",
    "max_distance = np.max(list(distance_dict.keys()))\n",
    "print(\"Maximum distance: \",max_distance)\n",
    "print(distance_dict[max_distance])\n",
    "    "
   ]
  },
  {
   "cell_type": "code",
   "execution_count": 160,
   "metadata": {},
   "outputs": [],
   "source": [
    "from pythonds.graphs import Graph\n",
    "import numpy as np\n",
    "import itertools\n",
    "from collections import Counter\n",
    "import matplotlib.pyplot as plt\n",
    "\n",
    "def MakeSet(x):\n",
    "    x.parent = x\n",
    "    x.rank   = 0\n",
    "\n",
    "def Union(x, y):\n",
    "    xRoot = Find(x)\n",
    "    yRoot = Find(y)\n",
    "    if xRoot.rank > yRoot.rank:\n",
    "        yRoot.parent = xRoot\n",
    "    elif xRoot.rank < yRoot.rank:\n",
    "        xRoot.parent = yRoot\n",
    "    elif xRoot != yRoot: # Unless x and y are already in same set, merge them\n",
    "        yRoot.parent = xRoot\n",
    "        xRoot.rank = xRoot.rank + 1\n",
    "\n",
    "def Find(x):\n",
    "     if x.parent == x:\n",
    "        return x\n",
    "     else:\n",
    "        x.parent = Find(x.parent)\n",
    "        return x.parent\n",
    "    \n",
    "class Node:\n",
    "    def __init__ (self, label):\n",
    "        self.label = label\n",
    "    def __str__(self):\n",
    "        return self.label \n",
    "    \n",
    "def buildConnectedComponents(wordFile):\n",
    "    d = {}\n",
    "    g = Graph()\n",
    "    words = []\n",
    "    wfile = open(wordFile,'r')\n",
    "    # create buckets of words that differ by one letter\n",
    "    for line in wfile:\n",
    "        word = line[:-1]\n",
    "        words.append(word)\n",
    "        for i in range(len(word)):\n",
    "            bucket = word[:i] + '_' + word[i+1:]\n",
    "            if bucket in d:\n",
    "                d[bucket].append(word)\n",
    "            else:\n",
    "                d[bucket] = [word]\n",
    "    l = dict((ch, Node(ch)) for ch in words)\n",
    "    [MakeSet(node) for node in l.values()]       #starting with every object in its own set\n",
    "#     print(\"objects labels:\\t\\t\\t\", [str(i) for i in l.values()])\n",
    "    sets =  [str(Find(x)) for x in l.values()]\n",
    "#     print(\"set representatives:\\t\\t\", sets)\n",
    "#     print(\"number of disjoint sets:\\t\", len([i for i in itertools.groupby(sets)]))\n",
    "#     # add vertices and edges for words in the same bucket\n",
    "    for bucket in d.keys():\n",
    "        for word1 in d[bucket]:\n",
    "            for word2 in d[bucket]:\n",
    "                if word1 != word2:\n",
    "                    Union(l[word1],l[word2])             \n",
    "    sets2 = [str(Find(x)) for x in l.values()]\n",
    "#     print(\"set representatives:\\t\\t\", sets2)\n",
    "    counts = Counter(sets2)\n",
    "    print(\"number of connected components:\\t\",len(dict(counts).keys()))\n",
    "    Listoftuples_freq = sorted(counts.items(),key = lambda x:x[1], reverse=True)\n",
    "\n",
    "    list_sorted_freq = Listoftuples_freq\n",
    "\n",
    "\n",
    "\n",
    "    x_val = [x[0] for x in list_sorted_freq]\n",
    "    y_val = [x[1] for x in list_sorted_freq]\n",
    "    v = list(y_val)\n",
    "    plt.plot(v)\n",
    "    plt.xlabel(\"Number of connected components\")\n",
    "    plt.ylabel(\"Size\")\n",
    "    plt.show()\n",
    "    "
   ]
  },
  {
   "cell_type": "code",
   "execution_count": 161,
   "metadata": {},
   "outputs": [
    {
     "name": "stdout",
     "output_type": "stream",
     "text": [
      "number of connected components:\t 810\n"
     ]
    },
    {
     "data": {
      "image/png": "[encoded data removed]",
      "text/plain": [
       "<Figure size 432x288 with 1 Axes>"
      ]
     },
     "metadata": {
      "needs_background": "light"
     },
     "output_type": "display_data"
    }
   ],
   "source": [
    "buildConnectedComponents('words5.txt')"
   ]
  },
  {
   "cell_type": "code",
   "execution_count": 4,
   "metadata": {},
   "outputs": [
    {
     "name": "stdout",
     "output_type": "stream",
     "text": [
      "Maximum distance:  1654\n",
      "['glare', 'shady']\n",
      "{881: ['aback', 'flack'], 880: ['alack'], 652: ['abide', 'olive', 'amigo', 'scene'], 651: ['amide', 'alive', 'amino', 'scone'], 653: ['aside', 'abode', 'scent'], 654: ['anode', 'above', 'scant'], 1639: ['acorn', 'sworn'], 1638: ['scorn', 'thorn'], 1640: ['adorn', 'sword'], 55: ['added'], 54: ['aided', 'andes'], 56: ['adder'], 57: ['odder'], 58: ['udder', 'older'], 60: ['aider'], 59: ['alder', 'order', 'olden', 'under'], 1642: ['adobe', 'award', 'spore', 'shard', 'swarm'], 1641: ['adore', 'sward', 'swore'], 624: ['after', 'astir', 'slabs', 'rater', 'inner', 'layer'], 625: ['alter', 'blabs', 'payer'], 623: ['aster', 'mater', 'infer', 'laxer', 'latex', 'scabs'], 126: ['bided'], 127: ['sided', 'bidet'], 130: ['aimed'], 129: ['aired'], 53: ['aides'], 61: ['cider'], 62: ['eider'], 63: ['hider', 'elder'], 64: ['rider'], 65: ['sider'], 66: ['wider'], 509: ['aimer'], 52: ['bides'], 265: ['hides', 'widen'], 266: ['rides'], 267: ['sides'], 268: ['tides'], 264: ['wides'], 131: ['mimed', 'armed'], 132: ['timed', 'arced'], 508: ['dimer', 'dinar'], 510: ['timer'], 394: ['fired'], 393: ['hired'], 395: ['mired'], 128: ['sired'], 396: ['tired'], 397: ['wired'], 879: ['black'], 882: ['slack'], 650: ['alike', 'amine', 'among', 'stone', 'icons'], 649: ['aline', 'atone', 'along', 'irons'], 648: ['alone', 'irony'], 647: ['clone', 'crony'], 873: ['aloud', 'flood', 'fluor'], 872: ['cloud', 'floor'], 626: ['altar', 'flabs', 'paler', 'payee'], 1369: ['anise', 'arose', 'match', 'marsh'], 1368: ['arise', 'march', 'prism'], 669: ['apace', 'spice'], 668: ['space'], 975: ['arabs'], 974: ['crabs'], 976: ['grabs', 'araks'], 1367: ['prise', 'rural', 'auras', 'larch'], 1370: ['erose', 'batch', 'harsh'], 1371: ['prose', 'catch', 'erase', 'erode'], 622: ['ester', 'later', 'paten', 'inter', 'scars'], 1336: ['aunts'], 1335: ['hunts', 'purrs'], 1337: ['punts'], 1338: ['runts', 'punks', 'putts'], 1366: ['aural', 'parch', 'poise', 'noisy'], 1365: ['mural', 'coral', 'noise', 'perch'], 1644: ['awake', 'scarp', 'stoke', 'storm'], 1645: ['awoke', 'scarf', 'smoke', 'stole', 'story'], 1643: ['aware', 'sharp', 'store'], 145: ['babas', 'babel', 'bakes'], 144: ['babes'], 146: ['label', 'bares'], 143: ['bales'], 147: ['bases', 'libel', 'lapel'], 148: ['bates'], 223: ['backs'], 224: ['hacks'], 225: ['jacks'], 226: ['lacks'], 227: ['packs'], 228: ['racks'], 229: ['sacks'], 230: ['tacks'], 560: ['becks', 'linen'], 559: ['bucks', 'liken'], 575: ['banks', 'barky'], 574: ['barks', 'garbs'], 222: ['basks'], 1164: ['baddy'], 1163: ['caddy'], 1165: ['daddy', 'buddy', 'baldy'], 1166: ['paddy', 'bawdy', 'balmy', 'muddy', 'dandy'], 1305: ['badly', 'rally', 'malva', 'watts'], 68: ['bader'], 67: ['wader'], 69: ['baker'], 70: ['barer'], 71: ['baser'], 1461: ['badge', 'large', 'barre', 'verve', 'nervy', 'purge'], 1462: ['cadge', 'budge', 'largo', 'puree'], 1460: ['barge', 'nerve', 'surge'], 1306: ['madly', 'tally'], 1304: ['sadly', 'dally', 'malay', 'malta', 'wants'], 697: ['baggy'], 696: ['boggy'], 698: ['buggy'], 1025: ['bails'], 1026: ['fails'], 1027: ['hails'], 1028: ['jails'], 1029: ['mails'], 1030: ['nails'], 1031: ['pails'], 1032: ['rails'], 1033: ['sails'], 1034: ['tails'], 1035: ['wails'], 1481: ['boils', 'bitty', 'beady', 'loins', 'teems', 'dirty', 'ditto', 'joint', 'leant'], 1024: ['balls'], 1507: ['bawls', 'routs', 'riots'], 1038: ['baits'], 1039: ['gaits'], 1037: ['waits'], 73: ['baked'], 74: ['caked'], 75: ['faked'], 76: ['naked'], 77: ['raked'], 78: ['waked'], 94: ['baled'], 93: ['bared'], 72: ['based'], 95: ['bated'], 96: ['bayed'], 404: ['maker'], 403: ['taker', 'tapir'], 254: ['biker'], 166: ['cakes', 'cagey'], 167: ['fakes'], 168: ['lakes'], 169: ['makes'], 170: ['rakes'], 171: ['sakes'], 172: ['takes'], 173: ['wakes'], 251: ['bikes'], 109: ['paled'], 189: ['dales', 'salem'], 190: ['gales'], 142: ['males'], 191: ['pales'], 188: ['sales', 'sagas'], 192: ['tales'], 193: ['vales'], 194: ['wales', 'valet'], 250: ['biles'], 1167: ['balms', 'ruddy', 'randy'], 1171: ['calls', 'manse', 'mango', 'palsy'], 1172: ['falls', 'tango', 'pansy'], 1173: ['galls', 'tangy'], 1174: ['halls', 'galas'], 1175: ['malls'], 1170: ['palls', 'palmy', 'mange'], 1176: ['walls', 'marls'], 1023: ['bells'], 1266: ['bills'], 1267: ['bulls'], 1168: ['calms', 'sandy', 'rangy'], 1169: ['palms', 'range'], 302: ['banal', 'basil', 'navel'], 303: ['canal', 'basic', 'gavel'], 301: ['basal', 'naval'], 41: ['bands'], 42: ['hands'], 43: ['lands'], 44: ['rands'], 45: ['sands'], 46: ['wands'], 40: ['bends'], 48: ['binds', 'windy'], 49: ['bonds'], 572: ['bards', 'noddy', 'teddy', 'today'], 576: ['bangs'], 577: ['banns'], 1350: ['fangs', 'kongo', 'hints', 'douse', 'fussy', 'genus', 'ninny', 'wings', 'panga'], 1351: ['gangs', 'nanny', 'tints', 'house', 'dowse', 'hussy', 'genes', 'venus', 'panda'], 1352: ['hangs', 'canny', 'mouse', 'husky', 'venue'], 1349: ['pangs', 'donga', 'congo', 'pints', 'louse', 'pussy', 'menus', 'hinny', 'rings'], 1343: ['bongs', 'dingo', 'bonny', 'fists', 'misty', 'tuner', 'tunas'], 1134: ['ranks'], 1133: ['tanks'], 1135: ['yanks', 'ranis'], 1339: ['bunks', 'butts', 'runes', 'punky'], 578: ['barns'], 573: ['barbs', 'birds', 'soddy'], 571: ['cards', 'toddy'], 585: ['lards'], 586: ['wards', 'lauds'], 584: ['yards'], 92: ['cared'], 105: ['dared', 'farad'], 106: ['eared'], 104: ['fared'], 107: ['hared', 'erred'], 108: ['pared'], 124: ['bored'], 162: ['carer'], 161: ['rarer'], 123: ['borer', 'polar'], 177: ['cares'], 178: ['dares'], 176: ['fares'], 179: ['hares'], 180: ['mares', 'harem'], 181: ['pares'], 182: ['tares'], 183: ['wares'], 363: ['bores', 'boxer'], 1459: ['sarge', 'serve'], 750: ['harks'], 749: ['larks'], 751: ['marks', 'hawks'], 752: ['parks'], 579: ['darns'], 580: ['earns'], 581: ['tarns'], 582: ['warns'], 583: ['yarns'], 1485: ['burns', 'tatty', 'feast', 'blast', 'heist', 'tolls', 'ferny', 'moist', 'leave', 'weedy', 'turfs'], 300: ['nasal'], 307: ['cased'], 308: ['eased'], 309: ['rased', 'easel'], 406: ['laser'], 405: ['maser'], 216: ['cases'], 217: ['eases'], 218: ['gases'], 219: ['oases'], 220: ['vases', 'oasis'], 608: ['buses', 'baths', 'roves', 'nosed', 'hovel', 'myths'], 221: ['basis'], 304: ['basin', 'cabal', 'ravel'], 1129: ['casks'], 1130: ['masks'], 1131: ['tasks'], 1145: ['baste'], 1146: ['caste'], 1147: ['haste'], 1144: ['paste'], 1148: ['taste'], 1149: ['waste', 'tasty'], 1372: ['hatch', 'probe'], 1373: ['latch', 'prove'], 1374: ['patch', 'trove'], 1375: ['watch', 'trope'], 1377: ['bitch', 'gripe'], 1378: ['botch', 'birch', 'grime'], 311: ['dated'], 312: ['fated'], 313: ['gated'], 314: ['hated'], 315: ['mated'], 310: ['rated'], 316: ['sated'], 149: ['dates'], 150: ['fates'], 151: ['gates'], 152: ['hates'], 153: ['mates'], 154: ['pates'], 155: ['rates'], 252: ['bites'], 253: ['bytes', 'biter'], 609: ['bathe', 'busts', 'fuses', 'hosed', 'novel', 'roved', 'nosey'], 610: ['lathe', 'bests', 'homed', 'fumes'], 611: ['laths', 'beats', 'fumed', 'lithe'], 607: ['maths', 'muses', 'loves', 'noted', 'goths', 'hotel', 'lutes', 'motet'], 612: ['oaths', 'beams', 'fused', 'tithe'], 613: ['paths', 'beans', 'mused', 'title'], 1482: ['batty', 'heady', 'beamy', 'kitty', 'foils', 'dirts', 'joist', 'point', 'leapt', 'teens'], 1483: ['fatty', 'ready', 'seamy', 'least', 'witty', 'soils', 'terns', 'foist', 'heavy', 'joust', 'print', 'teeny'], 1484: ['ratty', 'beast', 'toils', 'turns', 'ferns', 'hoist', 'heave', 'leash', 'weeny'], 1506: ['yawls', 'roots'], 1508: ['bowls', 'bouts', 'route'], 97: ['payed'], 98: ['rayed'], 715: ['beach'], 716: ['leach'], 717: ['peach', 'leech'], 718: ['reach', 'beech'], 719: ['teach', 'belch', 'reich', 'react'], 714: ['bench'], 562: ['beads', 'fined'], 563: ['heads', 'mined'], 564: ['leads', 'pined', 'mixed', 'herds'], 565: ['reads', 'fixed', 'herbs', 'nerds'], 561: ['beaks', 'lined'], 614: ['bears', 'titre', 'muted', 'piths'], 615: ['beaus', 'beard', 'meted', 'litre', 'pithy'], 1480: ['beany', 'ditty', 'coils', 'joins', 'terms', 'meant', 'nutty', 'putti'], 1188: ['leaks', 'reaps'], 1189: ['peaks'], 989: ['reams'], 990: ['seams'], 988: ['teams', 'prams'], 1012: ['deans', 'yearn'], 1013: ['jeans', 'learn'], 1014: ['leans'], 1015: ['means'], 1011: ['weans', 'years'], 981: ['brans'], 1479: ['meany', 'coins', 'dotty', 'germs', 'putty'], 616: ['heard', 'beaux', 'meter', 'feted', 'mitre'], 618: ['board', 'defer', 'peter', 'fetus', 'hoary', 'metro'], 1002: ['dears'], 1003: ['fears'], 1004: ['gears'], 1005: ['hears'], 1006: ['nears', 'heart'], 1007: ['pears'], 1008: ['rears', 'pearl'], 1001: ['sears'], 1009: ['tears'], 1010: ['wears'], 619: ['boars', 'pater', 'refer', 'retro'], 1248: ['beers'], 1486: ['yeast', 'boast', 'burps', 'burnt', 'deist', 'dolls', 'weave', 'needy', 'tarty', 'surfs', 'turfy', 'weepy'], 1112: ['feats'], 1113: ['heats'], 1114: ['meats', 'heath'], 1115: ['seats', 'death'], 1116: ['teats', 'depth'], 805: ['boats'], 806: ['brats'], 1237: ['beets'], 1236: ['belts'], 1191: ['decks'], 1192: ['necks', 'docks', 'desks'], 1190: ['pecks'], 1238: ['beefs'], 1239: ['reefs'], 1247: ['beeps'], 1473: ['beefy', 'perry', 'mercy', 'vague'], 1472: ['beery', 'merry', 'value'], 1254: ['deeps'], 1255: ['jeeps'], 1256: ['keeps'], 1257: ['peeps'], 1253: ['seeps', 'veers', 'tiers'], 1246: ['weeps'], 1249: ['jeers'], 1250: ['leers'], 1251: ['peers'], 1252: ['seers', 'piers'], 1493: ['boers'], 1471: ['berry', 'valve', 'solve', 'salvo'], 1299: ['meets', 'pelts', 'malts'], 1395: ['being', 'brine'], 1394: ['bring', 'wrung'], 1309: ['belay', 'belle', 'jelly'], 1310: ['delay', 'belie', 'welly', 'jolly'], 1311: ['relay', 'dolly', 'decay', 'wetly'], 1308: ['belly', 'wanly'], 1178: ['cells', 'early', 'gauls'], 1179: ['dells', 'gaols', 'hauls'], 1180: ['fells'], 1181: ['hells'], 1022: ['sells', 'zeals', 'rearm'], 1182: ['tells'], 1177: ['wells', 'earls', 'mauls', 'walks'], 1183: ['yells'], 1307: ['telly', 'manly'], 1313: ['billy', 'decry', 'decor', 'dimly', 'reply'], 1314: ['bully', 'deary'], 1297: ['kelts'], 1298: ['melts'], 1296: ['welts', 'huffy'], 1235: ['bolts'], 720: ['tench', 'retch'], 721: ['wench', 'fetch', 'tenth'], 713: ['bunch'], 729: ['fends'], 730: ['lends', 'feuds'], 731: ['mends'], 732: ['rends'], 733: ['sends', 'rinds'], 734: ['tends', 'finds'], 728: ['vends'], 39: ['wends'], 1470: ['ferry', 'salve', 'hurry'], 1474: ['terry', 'perky', 'vogue'], 1363: ['berth', 'girth', 'filth', 'fifty', 'moray', 'loose'], 1364: ['perth', 'mirth', 'moral', 'nifty', 'filch', 'noose'], 1362: ['birth', 'fifth', 'foray', 'worth', 'goose', 'worst'], 1118: ['jests', 'texts'], 1119: ['nests', 'jesus', 'texas'], 1120: ['pests', 'netts', 'texan'], 1121: ['rests', 'newts', 'setts'], 1117: ['tests'], 1122: ['vests', 'rusts', 'sects'], 422: ['betel', 'revel', 'fewer', 'human'], 421: ['bevel', 'newer', 'helen', 'heman', 'yemen', 'hymen'], 420: ['level', 'never', 'hemen', 'leper'], 125: ['boded'], 382: ['biped'], 51: ['bodes'], 255: ['hiker'], 279: ['dikes'], 280: ['hikes'], 281: ['likes'], 282: ['mikes'], 283: ['pikes'], 259: ['files'], 249: ['miles'], 260: ['piles', 'filet'], 261: ['riles'], 262: ['tiles'], 263: ['wiles'], 701: ['bilge'], 700: ['bulge'], 702: ['binge'], 1276: ['fills'], 1277: ['gills'], 1278: ['hills', 'girls'], 1279: ['kills'], 1280: ['mills'], 1275: ['pills', 'cello'], 1265: ['rills', 'vials'], 1281: ['tills'], 1282: ['wills'], 1312: ['dilly', 'decaf', 'decoy', 'relax', 'repay'], 1319: ['filly', 'silty'], 1320: ['hilly', 'fitly', 'sixty'], 1318: ['silly', 'milky'], 774: ['bimbo', 'tummy', 'wasps', 'jambs', 'lamas', 'wispy'], 773: ['limbo', 'rummy', 'lambs', 'wisps', 'mammy'], 735: ['kinds', 'funds', 'finis'], 736: ['minds'], 47: ['winds'], 703: ['hinge'], 704: ['singe'], 705: ['tinge', 'since', 'siege'], 1344: ['bingo', 'boney', 'bonus', 'gongs', 'sonny', 'musty', 'lists', 'missy', 'minty'], 1345: ['jingo', 'bogey', 'bogus', 'honey', 'songs', 'sunny', 'busty', 'messy', 'sissy'], 381: ['piped'], 383: ['wiped'], 1361: ['firth', 'worse', 'forty', 'north', 'moose'], 1382: ['ditch', 'coach', 'privy', 'truce'], 1383: ['hitch', 'roach', 'couch', 'truck'], 1381: ['pitch', 'poach', 'trice', 'pricy'], 1376: ['witch', 'grope'], 319: ['cites'], 320: ['kites'], 321: ['mites'], 322: ['rites'], 323: ['sites'], 1340: ['bitts', 'hunks', 'pinky', 'tunes', 'funky', 'rungs'], 1341: ['mitts', 'junks', 'funny', 'tubes', 'dinky', 'honks', 'lungs'], 790: ['blobs'], 1532: ['block'], 878: ['blank'], 675: ['blade', 'guile'], 674: ['glade', 'exude', 'guide'], 676: ['blame', 'guild', 'guise'], 677: ['blare', 'build'], 678: ['blase', 'built'], 679: ['blaze', 'guilt'], 1652: ['flame', 'fluke', 'flaky', 'snaky'], 839: ['bland'], 840: ['eland'], 841: ['gland'], 843: ['brand'], 838: ['blend'], 876: ['blind'], 875: ['blond'], 931: ['clank'], 932: ['flank'], 930: ['plank', 'pluto'], 877: ['blink'], 1653: ['flare', 'frame', 'flute', 'shaky'], 1654: ['glare', 'shady'], 680: ['glaze', 'quilt'], 897: ['braze', 'bloke', 'bravo'], 827: ['bleak'], 828: ['break'], 826: ['bleat'], 1567: ['cleat', 'brows', 'craws', 'drops', 'crowd'], 825: ['pleat'], 868: ['bloat', 'group', 'trout'], 837: ['bleed'], 836: ['breed'], 1083: ['bleep', 'sweep', 'sleek', 'stomp'], 1082: ['sleep', 'steam', 'stoep'], 1617: ['bless', 'slips'], 1616: ['bliss', 'flips'], 1554: ['clink', 'slunk', 'stain'], 1553: ['slink', 'staid'], 1396: ['brink', 'bribe', 'urine'], 1615: ['blips', 'whims'], 1614: ['clips', 'chits', 'whips'], 869: ['float', 'croup'], 867: ['gloat', 'grout'], 791: ['slobs'], 1531: ['blocs'], 789: ['blots'], 1530: ['blows'], 1533: ['clock'], 1534: ['flock'], 896: ['broke', 'brave'], 874: ['blood'], 1540: ['brood', 'bream', 'wreak', 'creel', 'greek', 'stick'], 1542: ['bloom', 'freed', 'gruel', 'drear', 'green', 'smack'], 1543: ['gloom', 'fried', 'freud', 'greet', 'preen', 'snack', 'smock'], 1541: ['broom', 'broad', 'dream', 'greed', 'creep', 'cruel', 'stack', 'wreck'], 1523: ['clots', 'cabby', 'shunt'], 1524: ['plots', 'cloth'], 1522: ['slots', 'tabby', 'stunt'], 788: ['boots'], 858: ['blown'], 859: ['clown'], 860: ['flown'], 857: ['brown', 'prawn'], 1529: ['flows'], 1569: ['glows', 'prows'], 1570: ['slows', 'gloss', 'prowl'], 1414: ['bluer', 'clues', 'blurs'], 1413: ['blues'], 1412: ['flues'], 1415: ['glues', 'blurb', 'clubs'], 1417: ['blunt', 'clued', 'gluey'], 1418: ['brunt'], 1416: ['blurt', 'glued'], 1517: ['slurs', 'booby', 'booth', 'worms', 'yours', 'goofy', 'worry', 'moldy'], 939: ['blush'], 940: ['flush', 'brush'], 941: ['plush', 'brash', 'flesh'], 938: ['slush'], 617: ['hoard', 'deter', 'fetes', 'fetid', 'metre'], 620: ['roars', 'eater', 'retry'], 621: ['soars', 'hater', 'eaten', 'enter'], 1492: ['boors'], 1487: ['coast', 'burst', 'deism', 'polls', 'seedy', 'warty', 'serfs'], 1488: ['roast', 'pools', 'rolls'], 1489: ['toast', 'roost', 'cools'], 1490: ['boost', 'coons'], 804: ['coats'], 1207: ['goats'], 1208: ['moats', 'gnats'], 1518: ['bobby', 'tooth', 'broth', 'forms', 'lorry', 'sluts', 'slurp'], 1519: ['hobby', 'froth', 'forks', 'firms', 'norms', 'sorry', 'shuts'], 1520: ['lobby', 'works', 'films', 'folks', 'hubby', 'shots', 'shuns', 'smuts'], 471: ['coded'], 336: ['boned'], 337: ['booed'], 338: ['bowed'], 339: ['boxed'], 273: ['codes'], 274: ['modes'], 275: ['nodes'], 50: ['bones', 'ponds'], 362: ['boxes'], 1494: ['doers'], 1495: ['goers', 'doors', 'dyers'], 1346: ['fogey', 'money', 'tongs', 'mossy', 'runny', 'bushy', 'sings'], 695: ['doggy', 'podgy'], 1347: ['foggy', 'bossy', 'tunny', 'mushy', 'tonga', 'kings', 'mousy', 'sinus'], 1348: ['soggy', 'pushy', 'conga', 'tinny', 'pings', 'lousy', 'minus'], 1514: ['colts', 'cysts', 'hosts', 'hours', 'woody', 'softy'], 1515: ['jolts', 'sooty', 'cults', 'pours', 'goody', 'hosta', 'wordy'], 1234: ['molts'], 1516: ['volts', 'booty', 'sours', 'moody', 'gooey', 'wormy'], 594: ['bombs', 'sodas'], 593: ['combs', 'somas'], 595: ['tombs', 'sofas'], 596: ['wombs', 'tomes'], 460: ['coned'], 461: ['honed'], 459: ['toned'], 335: ['zoned'], 330: ['cones'], 331: ['hones'], 332: ['sones'], 333: ['tones'], 334: ['zones'], 1342: ['longs', 'bunny', 'mutts', 'dingy', 'kinky', 'mists', 'monks', 'lunge', 'tubas', 'tuber'], 472: ['cooed', 'ceded'], 473: ['mooed'], 474: ['wooed'], 1217: ['books'], 1218: ['cooks'], 1219: ['hooks'], 1220: ['looks', 'hooky'], 1221: ['nooks'], 1222: ['rooks'], 1216: ['booms', 'roomy'], 1491: ['boons'], 1628: ['dooms', 'puppy', 'happy', 'loony', 'swats'], 1627: ['looms', 'pappy', 'loopy', 'quick', 'spats'], 1215: ['rooms', 'loamy'], 1629: ['zooms', 'guppy', 'nappy', 'pulpy', 'swots', 'sways'], 1498: ['goons', 'morns', 'muons'], 1497: ['moons'], 1499: ['noons', 'horns', 'gowns'], 1496: ['moors'], 787: ['foots'], 1504: ['hoots', 'pawns', 'rowdy', 'fauna'], 1505: ['loots', 'yawns', 'sauna'], 1503: ['soots', 'lawns', 'howdy', 'dowry', 'fauns'], 466: ['gored', 'posed'], 465: ['pored'], 122: ['bower', 'molar', 'sonar'], 364: ['cores'], 365: ['gores'], 366: ['mores'], 367: ['pores'], 368: ['sores'], 1379: ['notch', 'prime', 'grimm'], 1380: ['potch', 'grimy', 'price'], 1387: ['bough', 'munch', 'crank', 'lurch', 'lynch', 'porch', 'torah'], 1388: ['cough', 'frank', 'mulch', 'pooch'], 1389: ['dough', 'prank', 'franc'], 1390: ['rough', 'prang'], 1386: ['tough', 'lunch', 'vouch', 'drank', 'torch'], 1509: ['louts', 'fowls'], 1510: ['pouts', 'howls', 'fools', 'lofts', 'louis'], 1511: ['touts', 'jowls', 'tools', 'lefts', 'poets'], 476: ['cowed'], 477: ['mowed'], 478: ['rowed'], 479: ['sowed'], 480: ['towed'], 481: ['vowed', 'toyed'], 475: ['wowed', 'wooer'], 505: ['bowel', 'loner'], 506: ['dowel', 'liner'], 504: ['towel', 'toner'], 507: ['vowel', 'diner'], 498: ['cower', 'comet', 'taken', 'woman'], 499: ['lower', 'covet', 'oaken', 'roman', 'wodan'], 500: ['mower', 'waken'], 501: ['power', 'waxen'], 502: ['rower'], 121: ['sower', 'solar'], 503: ['tower'], 340: ['coxed'], 341: ['foxed'], 494: ['coxes', 'coven'], 361: ['foxes', 'taxis'], 889: ['brace', 'tract'], 890: ['grace', 'trait'], 888: ['trace'], 895: ['brake'], 807: ['brags'], 808: ['crags'], 809: ['drags'], 980: ['brass'], 982: ['brays'], 844: ['braid'], 845: ['brail'], 846: ['brain', 'broil'], 851: ['frail', 'trawl'], 852: ['grail', 'brawl'], 850: ['trail', 'twain'], 847: ['drain'], 848: ['grain'], 849: ['train'], 856: ['brawn'], 894: ['drake'], 842: ['grand'], 942: ['crash', 'fresh'], 943: ['trash', 'crush'], 979: ['crass'], 1563: ['grass', 'glenn'], 902: ['crave', 'orate', 'grove', 'gravy'], 901: ['grave', 'irate'], 853: ['crawl'], 854: ['drawl'], 855: ['drawn'], 983: ['drays'], 984: ['frays'], 985: ['prays'], 986: ['trays'], 987: ['xrays', 'trams'], 898: ['craze'], 899: ['graze', 'crazy'], 829: ['bread'], 830: ['dread'], 831: ['tread'], 1538: ['creak', 'crook', 'slick', 'cloak'], 1539: ['freak', 'cream', 'brook', 'creek', 'croon', 'snick'], 835: ['creed'], 817: ['brews'], 816: ['crews', 'chewy'], 818: ['trews'], 1397: ['tribe', 'bride', 'brisk', 'briny', 'drink'], 958: ['brick'], 957: ['crick'], 959: ['prick'], 960: ['trick'], 1398: ['pride', 'frisk', 'tripe'], 1409: ['brims', 'pries', 'wraps'], 1408: ['trims', 'fries', 'traps'], 1393: ['wring'], 1544: ['groom', 'shock', 'dried', 'fraud', 'great', 'knack'], 862: ['crown'], 863: ['drown'], 861: ['frown'], 864: ['grown'], 1566: ['crows', 'clear', 'dross'], 1568: ['grows', 'cleft', 'draws'], 1419: ['grunt'], 742: ['ducks'], 743: ['mucks'], 744: ['rucks', 'mucus'], 745: ['sucks'], 746: ['tucks'], 558: ['bulks', 'liven', 'haven'], 1463: ['fudge', 'cargo', 'purer', 'purse'], 1464: ['judge', 'curer', 'curse', 'parse', 'pulse'], 1465: ['nudge', 'cured', 'surer', 'curie', 'nurse', 'passe'], 1291: ['buffs', 'hilts'], 1292: ['cuffs', 'jilts'], 1293: ['muffs', 'kilts'], 1294: ['puffs', 'tilts', 'kilns'], 1290: ['ruffs', 'silts'], 699: ['muggy', 'bulgy'], 1268: ['bulbs', 'culls'], 1315: ['bulky', 'weary', 'diary'], 557: ['hulks', 'given', 'raven', 'rivet'], 1317: ['sulks', 'silky'], 1316: ['sulky'], 1269: ['dulls'], 1270: ['gulls'], 1271: ['hulls'], 1272: ['lulls', 'hullo'], 1273: ['nulls', 'hallo'], 1274: ['pulls', 'hello'], 1325: ['dully', 'lowly'], 1326: ['fully'], 1324: ['gully', 'lolly', 'godly'], 1327: ['sully'], 1329: ['burly'], 763: ['bumps'], 764: ['dumps'], 765: ['humps'], 766: ['jumps', 'humus'], 767: ['lumps'], 768: ['mumps', 'lumpy'], 769: ['pumps', 'bumpy'], 762: ['rumps'], 770: ['sumps', 'dumpy', 'pimps', 'pumas'], 771: ['jumpy', 'dummy', 'limps'], 1385: ['hunch', 'touch', 'dutch', 'drunk'], 712: ['punch'], 1330: ['curly'], 1328: ['surly'], 1123: ['dusts'], 1124: ['gusts'], 1125: ['lusts'], 1126: ['musts'], 1127: ['ousts', 'masts'], 1354: ['dusty', 'musky', 'fancy', 'rouge', 'reuse'], 1355: ['fusty', 'gouge', 'musks', 'mucky'], 1356: ['gusty', 'gorge', 'gauge', 'tusks', 'lucky', 'murky'], 1357: ['lusty', 'gorse', 'forge', 'gauze', 'gusto'], 1358: ['rusty', 'corse', 'force', 'forgo'], 1162: ['candy'], 115: ['cafes'], 116: ['safes'], 165: ['cages'], 114: ['canes'], 164: ['capes'], 215: ['caves', 'pupae', 'pupil'], 86: ['caged'], 87: ['paged'], 85: ['raged'], 88: ['waged'], 90: ['caned'], 91: ['caped'], 306: ['caved'], 185: ['pages'], 186: ['rages'], 187: ['sages'], 184: ['wages'], 1468: ['calve', 'curry', 'lucid'], 1469: ['halve', 'furry'], 1467: ['carve', 'cause', 'curio', 'curvy', 'lurid', 'lurex'], 757: ['camps'], 758: ['damps'], 759: ['lamps'], 760: ['ramps'], 761: ['vamps', 'romps'], 756: ['carps'], 1161: ['handy'], 111: ['maned'], 110: ['paned'], 112: ['vaned'], 89: ['waned'], 196: ['danes'], 197: ['lanes'], 198: ['manes'], 199: ['panes'], 113: ['vanes'], 195: ['wanes'], 1353: ['fanny', 'rouse', 'dusky'], 100: ['gaped', 'rapid'], 99: ['raped'], 101: ['taped', 'rabid', 'vapid'], 470: ['coped', 'duped', 'dopey'], 163: ['caper'], 401: ['paper'], 402: ['taper'], 413: ['cater'], 414: ['caver'], 211: ['gapes', 'tapas'], 212: ['japes', 'papas'], 213: ['rapes', 'papal'], 210: ['tapes'], 329: ['copes'], 570: ['cords', 'toady'], 1333: ['curds', 'hurls'], 755: ['carts'], 455: ['ceres', 'cubes'], 454: ['cures', 'typed'], 776: ['harps', 'rasps', 'mayas'], 775: ['warps', 'yummy', 'gasps', 'mamas', 'lavas', 'wimpy'], 1625: ['corps', 'hoops', 'soppy', 'quark', 'smile', 'spite', 'smith'], 1155: ['carry'], 1156: ['harry'], 1157: ['marry'], 1154: ['parry'], 1158: ['tarry'], 781: ['darts'], 782: ['harts'], 754: ['parts', 'saris'], 783: ['tarts'], 780: ['warts'], 1128: ['casts'], 1466: ['curve', 'pause', 'lured', 'curia', 'posse', 'super'], 1140: ['fasts'], 1141: ['lasts'], 1142: ['pasts'], 1513: ['costs', 'fours', 'hefty', 'lofty', 'wooly'], 412: ['water'], 346: ['paved'], 305: ['raved'], 347: ['saved'], 345: ['waved'], 415: ['raver'], 416: ['saver'], 417: ['waver', 'sever', 'saner'], 495: ['cover', 'woven'], 354: ['eaves'], 353: ['haves'], 355: ['paves', 'elves'], 214: ['raves', 'pupal', 'papaw'], 356: ['saves', 'elven'], 357: ['waves'], 493: ['coves'], 1450: ['cease', 'chafe', 'chasm', 'phase', 'whose', 'clove'], 1451: ['lease', 'chaff', 'charm', 'glove', 'whole'], 1452: ['tease', 'chuff', 'chart', 'whore', 'globe'], 1449: ['chase', 'those', 'close'], 723: ['cents'], 724: ['dents'], 725: ['gents', 'debts'], 726: ['rents'], 722: ['tents', 'ketch', 'teeth'], 727: ['vents'], 632: ['champ'], 631: ['clamp'], 633: ['cramp'], 638: ['chimp', 'chums'], 639: ['chomp', 'chime', 'chirp', 'chugs'], 637: ['chump', 'thumb'], 1453: ['chant', 'chary', 'tense', 'glebe', 'where'], 801: ['chaos'], 800: ['chaps'], 802: ['chars'], 803: ['chats', 'czars'], 1104: ['claps'], 1613: ['chips'], 799: ['chops'], 1448: ['chose'], 948: ['cheap', 'wheat', 'grist', 'waist'], 949: ['cheep', 'whist'], 947: ['cheat', 'crypt', 'wrist'], 946: ['chest', 'crept', 'wrest'], 951: ['check'], 952: ['chick'], 953: ['chock'], 954: ['chuck'], 950: ['cheek', 'whisk'], 1078: ['cheer', 'sneer'], 1076: ['sheep'], 1077: ['sheer'], 814: ['chefs'], 813: ['chess'], 815: ['chews'], 812: ['cress', 'drums'], 945: ['crest'], 961: ['thick'], 956: ['click', 'pluck'], 963: ['chink'], 640: ['chide', 'crime', 'thugs'], 641: ['crimp', 'creme', 'thuds'], 964: ['china', 'chunk'], 965: ['chins'], 962: ['think'], 966: ['shins'], 967: ['thins'], 1612: ['ships'], 1536: ['crock', 'flick'], 1447: ['choke', 'chord'], 1446: ['chore', 'shiny'], 1611: ['shops'], 1624: ['coops', 'coupe', 'quirk', 'quota', 'smite', 'soapy'], 798: ['crops'], 1445: ['shore', 'spiny'], 955: ['cluck'], 636: ['thump'], 1087: ['clump'], 496: ['coder', 'woken'], 709: ['cinch'], 710: ['finch'], 711: ['pinch'], 708: ['winch'], 318: ['cited'], 317: ['sited'], 1106: ['clasp', 'claws'], 630: ['clams'], 992: ['slams'], 978: ['crams'], 629: ['clans'], 1105: ['class'], 1107: ['clays'], 1433: ['clang', 'spent', 'spell', 'smelt'], 1434: ['slang', 'swell', 'spend'], 1432: ['cling', 'spelt'], 1436: ['clung', 'dwelt', 'stung'], 628: ['flans'], 1561: ['glans'], 1560: ['plans', 'slant'], 1527: ['flaps'], 1103: ['slaps'], 935: ['clash'], 934: ['flash'], 936: ['slash'], 1562: ['glass', 'glens'], 1528: ['flaws'], 1108: ['plays'], 1109: ['slays'], 1565: ['clean', 'cross', 'gleam'], 1564: ['glean', 'gross', 'grasp'], 1537: ['klick', 'croak'], 1438: ['fling', 'swing'], 1431: ['sling', 'spilt'], 1440: ['cuing', 'feint', 'glint', 'flirt', 'seine', 'twine'], 794: ['clods'], 795: ['plods'], 793: ['clogs', 'smogs'], 1572: ['flogs', 'shoes'], 792: ['slogs'], 646: ['crone'], 1525: ['sloth', 'plops'], 871: ['clout', 'flour'], 870: ['flout'], 1088: ['plump'], 1086: ['slump', 'swept'], 1437: ['flung', 'swung'], 1435: ['slung', 'dwell'], 1205: ['coals'], 1204: ['foals'], 1206: ['goals'], 1193: ['cocks'], 1194: ['hocks'], 1195: ['locks'], 1196: ['mocks', 'lochs'], 1197: ['pocks', 'locus'], 1198: ['rocks', 'focus', 'lotus'], 1199: ['socks', 'ficus', 'hocus'], 1477: ['corks', 'cocky', 'perks', 'petty', 'leafy', 'meaty'], 1478: ['rocky', 'corns', 'potty', 'perms', 'jetty', 'mealy'], 1476: ['corky', 'jerks', 'leaky', 'peaty', 'pesky'], 497: ['codex', 'comer', 'token', 'women'], 272: ['comes'], 591: ['colas'], 592: ['comas'], 590: ['colds'], 589: ['folds'], 1231: ['golds'], 1232: ['holds'], 1233: ['molds'], 1230: ['wolds'], 271: ['domes'], 597: ['homes'], 1512: ['wools', 'posts', 'tours', 'lefty', 'poems'], 1626: ['loops', 'hoofs', 'poppy', 'quack', 'quart', 'spate'], 1623: ['coups', 'quips', 'quire', 'suite', 'quote', 'soupy'], 469: ['doped'], 537: ['hoped'], 538: ['loped'], 539: ['moped'], 536: ['roped'], 328: ['dopes'], 541: ['hopes'], 542: ['lopes'], 540: ['mopes'], 543: ['popes'], 544: ['ropes'], 1359: ['copse', 'horse', 'farce', 'forte'], 588: ['fords'], 569: ['lords', 'toads'], 587: ['words'], 1475: ['porky', 'jerky', 'peaky', 'rogue'], 1501: ['corny', 'dawns', 'downy', 'towns', 'ports', 'porno'], 1500: ['porns', 'horny', 'downs', 'nouns'], 1360: ['morse', 'forth', 'horde'], 1384: ['pouch', 'trunk', 'hutch'], 1622: ['soups', 'quids', 'quite', 'stirs'], 528: ['dover'], 529: ['hover'], 530: ['lover'], 531: ['mover'], 527: ['rover'], 492: ['doves'], 606: ['moves', 'notes', 'moths', 'motel', 'mutes'], 973: ['cribs'], 886: ['crack'], 887: ['track'], 885: ['wrack'], 1422: ['craft', 'haunt'], 1423: ['draft', 'croft', 'jaunt', 'hadnt'], 1421: ['graft', 'daunt', 'giant'], 1424: ['kraft', 'taunt', 'drift', 'hasnt'], 634: ['tramp'], 977: ['grams', 'grubs'], 645: ['crane'], 644: ['crate'], 900: ['grate'], 643: ['crete'], 834: ['cried'], 642: ['crepe', 'crisp'], 811: ['dress', 'drugs'], 1259: ['press', 'feels'], 1260: ['tress', 'fuels', 'heels', 'preys'], 944: ['crust'], 972: ['cries', 'going', 'vying'], 1545: ['pried', 'drier', 'treat', 'knock', 'stock'], 833: ['tried'], 1546: ['crier', 'dryer', 'plied', 'stuck', 'stork'], 1547: ['trier', 'fryer', 'stark'], 1407: ['dries', 'trips'], 971: ['tries', 'doing', 'lying'], 1535: ['frock', 'fleck'], 904: ['drone', 'drive'], 905: ['prone'], 797: ['props'], 1400: ['crude', 'prune', 'write'], 1399: ['prude', 'prize', 'trite'], 1262: ['trust', 'duals', 'reels'], 456: ['cubed'], 457: ['tubed'], 1439: ['suing', 'flint', 'owing', 'swine'], 1331: ['curls'], 1332: ['curbs', 'furls'], 453: ['lures', 'dykes', 'pyres', 'types'], 1334: ['purls', 'hurts'], 1048: ['daily', 'fairy', 'weird'], 1049: ['gaily', 'doily', 'daisy'], 1050: ['drily'], 1047: ['dairy', 'weirs', 'laird'], 1046: ['hairy', 'lairs', 'heirs', 'maims', 'veils'], 489: ['doles', 'doyen', 'gamed', 'razes'], 206: ['dames'], 1303: ['sally', 'wafts', 'malty'], 205: ['games'], 207: ['james'], 208: ['names'], 209: ['tames'], 270: ['dimes'], 1502: ['damns', 'fawns', 'dowdy', 'sorts'], 325: ['dines', 'sinew'], 326: ['dunes'], 485: ['dazed', 'oozed'], 483: ['doted'], 491: ['dotes'], 1420: ['gaunt', 'grant'], 486: ['gazed', 'oozes'], 487: ['lazed', 'dozes'], 488: ['razed', 'doges', 'dozen', 'lamed'], 484: ['dozed'], 1017: ['deals'], 1018: ['heals', 'dealt'], 1016: ['meals'], 1019: ['peals'], 1020: ['reals'], 1021: ['seals', 'realm'], 1263: ['dials'], 30: ['deeds'], 31: ['feeds'], 32: ['heeds'], 33: ['leeds'], 34: ['needs'], 35: ['reeds'], 36: ['seeds'], 37: ['weeds', 'sheds'], 29: ['deems'], 28: ['seems', 'items'], 1454: ['dense', 'terse', 'there'], 1455: ['sense', 'verse', 'theme'], 738: ['dints'], 1264: ['rials'], 386: ['diced'], 385: ['dined'], 387: ['dived'], 438: ['dices', 'divas'], 439: ['dicey', 'vices', 'divan'], 437: ['dives'], 739: ['diets'], 740: ['duets'], 278: ['dukes'], 523: ['diver', 'major'], 435: ['limes'], 434: ['mimes', 'sized'], 269: ['times'], 384: ['wined'], 521: ['finer', 'minor'], 520: ['miner', 'wiser'], 372: ['fines'], 373: ['lines'], 374: ['mines'], 375: ['nines'], 376: ['pines'], 324: ['sines'], 377: ['vines'], 378: ['wines'], 737: ['mints'], 388: ['hived'], 389: ['jived'], 390: ['lived'], 522: ['fiver', 'manor'], 524: ['giver', 'mayor'], 525: ['liver'], 526: ['river'], 443: ['fives'], 442: ['gives', 'gibed'], 444: ['hives'], 445: ['jives'], 436: ['lives'], 446: ['wives'], 693: ['dodge'], 694: ['lodge', 'dodgy'], 692: ['wodge'], 490: ['doses', 'named'], 970: ['dying', 'trigs'], 463: ['doled'], 462: ['holed'], 464: ['poled'], 468: ['domed'], 467: ['dosed'], 598: ['holes'], 599: ['moles'], 600: ['poles'], 601: ['roles'], 602: ['soles'], 603: ['voles'], 1322: ['folly', 'hotly'], 1323: ['golly'], 1321: ['holly', 'sixth'], 327: ['dupes'], 548: ['hoses'], 547: ['loses'], 549: ['moses'], 550: ['noses'], 551: ['poses'], 552: ['roses', 'poser'], 482: ['voted', 'joyed'], 605: ['motes', 'voter'], 604: ['votes'], 810: ['dregs'], 893: ['drape', 'graph'], 892: ['grape', 'trade'], 1406: ['drips'], 1051: ['drill', 'dryly'], 1052: ['frill', 'wryly'], 1053: ['grill'], 1054: ['krill'], 1055: ['trill'], 1057: ['droll', 'swill'], 1405: ['grips', 'grind'], 903: ['drove', 'ovate'], 1056: ['troll', 'twill', 'trial'], 1058: ['drool', 'skill'], 1059: ['droop', 'spill'], 1060: ['troop', 'still'], 1261: ['duels', 'keels', 'greys', 'treks', 'truss'], 741: ['ducts'], 277: ['dudes'], 276: ['nudes'], 772: ['mummy', 'limbs', 'lisps'], 969: ['tying', 'thong', 'twigs'], 452: ['tykes', 'lyres'], 408: ['eager'], 407: ['lager'], 409: ['pager'], 410: ['wager'], 927: ['elate'], 928: ['plate', 'elite'], 926: ['slate'], 672: ['elide'], 673: ['glide', 'elude'], 671: ['slide'], 1610: ['elope', 'slops'], 1609: ['slope'], 81: ['faced'], 82: ['laced'], 83: ['paced'], 84: ['raced'], 80: ['faded'], 103: ['famed'], 342: ['faxed'], 158: ['facer'], 157: ['faces'], 159: ['facet', 'pacer'], 160: ['racer'], 201: ['laces', 'pacey'], 202: ['maces'], 200: ['paces', 'panel'], 156: ['races'], 175: ['fades', 'wadis'], 359: ['faxes'], 1139: ['facts'], 1138: ['pacts'], 350: ['jaded', 'pawed'], 79: ['waded'], 352: ['hades'], 351: ['jades', 'yawed'], 174: ['wades'], 1044: ['fairs', 'raids', 'reins', 'rainy'], 1426: ['faint'], 1427: ['paint'], 1428: ['saint'], 1425: ['taint'], 1045: ['hairs', 'maids', 'ruins', 'veins'], 1043: ['pairs', 'rains', 'maize'], 102: ['tamed', 'valid'], 370: ['fires', 'siren'], 778: ['farms'], 777: ['harms', 'raspy'], 779: ['warms'], 298: ['fatal', 'feral', 'metal', 'legal'], 299: ['natal'], 297: ['fetal', 'regal', 'venal'], 343: ['taxed'], 344: ['waxed'], 360: ['taxes', 'fixes'], 358: ['waxes'], 1111: ['flats'], 1258: ['peels', 'preps'], 685: ['fence', 'ponce'], 686: ['hence'], 684: ['pence'], 296: ['petal', 'renal'], 418: ['fever', 'seven'], 419: ['lever', 'semen'], 423: ['hewer', 'rebel'], 424: ['sewer', 'repel'], 371: ['fifes'], 134: ['filed'], 135: ['oiled'], 136: ['piled', 'ogled'], 137: ['riled'], 133: ['tiled', 'timid'], 258: ['filer'], 513: ['miler', 'nicer'], 514: ['oiler'], 512: ['tiler', 'niger'], 515: ['viler'], 257: ['firer'], 566: ['fixer', 'roads', 'kerbs'], 1521: ['filmy', 'yolks', 'tubby', 'scots', 'stuns'], 256: ['hirer'], 398: ['wirer'], 448: ['hires'], 449: ['mires'], 369: ['sires'], 450: ['tires'], 447: ['wires'], 567: ['mixer', 'goads', 'verbs'], 433: ['mixes', 'sizes'], 432: ['sixes'], 627: ['flags'], 933: ['flask'], 993: ['slags'], 1651: ['flake', 'snake', 'suave'], 1650: ['slake', 'stave', 'slavs'], 1526: ['flops', 'ploys'], 1110: ['slats'], 1619: ['flits', 'snips', 'spits'], 822: ['fleas'], 823: ['pleas'], 821: ['flees', 'frets'], 820: ['frees'], 1411: ['flies'], 1085: ['fleet', 'swamp', 'slept', 'stump'], 1084: ['sleet', 'stamp', 'stoma'], 1549: ['flier', 'slyer', 'foyer', 'shank', 'smart'], 1548: ['flyer', 'freer', 'shark', 'start', 'truer'], 1410: ['plies'], 1618: ['slits', 'skips'], 1573: ['frogs', 'shoed'], 1571: ['floss', 'growl', 'shows'], 1203: ['fouls'], 1213: ['foams'], 1212: ['loams'], 1214: ['roams', 'foamy'], 1226: ['foods'], 786: ['fonts'], 785: ['forts', 'torus'], 1225: ['goods'], 1227: ['hoods'], 1228: ['moods'], 1229: ['woods'], 784: ['torts'], 1202: ['souls'], 819: ['trees'], 1040: ['gains'], 1041: ['mains'], 1042: ['pains', 'maine'], 1404: ['grins'], 1402: ['grits'], 204: ['gazes'], 203: ['mazes'], 1241: ['geeks'], 1242: ['leeks'], 1243: ['peeks'], 1240: ['reeks'], 1244: ['seeks'], 1245: ['weeks'], 441: ['gibes'], 440: ['vibes'], 1286: ['gifts'], 1287: ['lifts'], 1288: ['rifts'], 1289: ['sifts', 'riffs'], 1285: ['gilts'], 1284: ['gilds'], 1283: ['wilds'], 1295: ['wilts', 'puffy'], 556: ['riven', 'husks'], 681: ['glace', 'quill', 'quiet'], 682: ['place', 'quell'], 891: ['grade'], 866: ['groat', 'groin'], 923: ['gnarl', 'stare', 'snail'], 922: ['snarl', 'spare'], 1209: ['gnaws', 'moans'], 568: ['loads'], 1224: ['goofs'], 1223: ['roofs'], 1403: ['grids'], 1401: ['writs', 'white', 'wrote'], 865: ['groan'], 1632: ['gulfs', 'hippy', 'steps', 'spark', 'stows', 'spurs'], 1631: ['gulps', 'zippy', 'spars', 'stops', 'stays'], 1630: ['pulps', 'zappy', 'spots', 'swops', 'spays'], 1301: ['hafts', 'salts'], 1302: ['rafts', 'salty'], 1300: ['halts'], 1160: ['hardy'], 1159: ['tardy'], 1150: ['hasty', 'testy'], 1151: ['nasty', 'zesty'], 1152: ['pasty'], 1186: ['heaps', 'helms'], 1187: ['leaps'], 1185: ['helps'], 688: ['hedge'], 689: ['ledge'], 690: ['sedge'], 691: ['wedge'], 687: ['henge'], 1184: ['yelps'], 426: ['hewed'], 425: ['sewed'], 427: ['hexed'], 428: ['sexed'], 429: ['vexed'], 392: ['hiked', 'lipid', 'vivid'], 391: ['liked', 'livid'], 1633: ['hippo', 'snows', 'spurn'], 555: ['rusks', 'jokey', 'ripen', 'risky'], 27: ['stems'], 349: ['jawed'], 348: ['sawed'], 239: ['jinks'], 240: ['kinks'], 241: ['links'], 242: ['minks'], 243: ['oinks'], 244: ['pinks'], 245: ['rinks'], 246: ['sinks'], 238: ['winks'], 286: ['joked'], 287: ['poked'], 288: ['yoked'], 554: ['joker', 'risks', 'risen'], 285: ['jokes'], 553: ['poker', 'loser', 'rises'], 284: ['pokes'], 290: ['yokes', 'yodel'], 232: ['kicks', 'wacky'], 233: ['licks'], 234: ['nicks'], 235: ['picks'], 236: ['ricks'], 231: ['ticks', 'tacky'], 237: ['wicks'], 7: ['knits'], 8: ['snits'], 9: ['units', 'skits'], 6: ['knots'], 5: ['knobs'], 4: ['snobs'], 1634: ['knows', 'snowy', 'spurt'], 1635: ['known', 'showy'], 748: ['lurks'], 1210: ['loans'], 533: ['loved'], 1211: ['loafs'], 534: ['lobed'], 535: ['robed'], 546: ['lobes'], 545: ['robes'], 532: ['moved'], 747: ['turks'], 451: ['tyres'], 141: ['mules'], 519: ['miser'], 293: ['medal', 'nodal'], 294: ['pedal'], 292: ['modal', 'modem'], 1457: ['merge', 'rhyme'], 1458: ['serge'], 1456: ['verge', 'thyme', 'these'], 248: ['milks'], 247: ['silks'], 706: ['mince', 'sieve'], 707: ['wince', 'minke'], 518: ['riser'], 291: ['model'], 140: ['rules', 'ruder'], 511: ['tiger', 'tamer'], 1442: ['opine', 'spike'], 1441: ['spine', 'seize', 'twice'], 1391: ['orang', 'prong'], 1137: ['pants'], 1136: ['rants'], 400: ['piper'], 753: ['paris', 'parka'], 1153: ['party'], 1143: ['pasta'], 683: ['peace'], 295: ['penal'], 906: ['phone'], 907: ['shone', 'phony'], 380: ['pipes'], 517: ['riper'], 516: ['viper'], 399: ['wiper'], 379: ['wipes'], 929: ['plane', 'plato'], 1557: ['plaid', 'skull', 'spawn'], 1556: ['plain', 'skulk', 'spain'], 1558: ['plait', 'scull'], 1555: ['slain', 'skunk', 'stair'], 1559: ['plant'], 824: ['plead', 'plebs'], 796: ['prods'], 1092: ['plugs', 'plumy'], 1093: ['slugs'], 1091: ['plums'], 1089: ['plumb'], 1090: ['plume'], 1094: ['slums'], 1392: ['wrong'], 1621: ['quits', 'sties', 'soaps', 'snide', 'swipe'], 1620: ['suits', 'spies', 'snaps', 'snipe'], 909: ['rhine'], 908: ['shine'], 910: ['thine', 'rhino'], 911: ['whine'], 138: ['ruled'], 139: ['ruler'], 118: ['saber'], 119: ['sober'], 117: ['safer'], 411: ['wafer'], 1429: ['stint'], 999: ['stabs'], 998: ['swabs'], 656: ['scams'], 655: ['scans'], 659: ['scald'], 660: ['scold', 'scale'], 658: ['scalp'], 661: ['scaly'], 914: ['shale'], 915: ['stale'], 664: ['scape'], 663: ['scare'], 657: ['scamp'], 662: ['scary'], 991: ['shams'], 1099: ['spans', 'slyly', 'swish'], 1100: ['swans', 'shyly'], 665: ['shape'], 1608: ['scope'], 920: ['share'], 921: ['snare'], 1607: ['score'], 1000: ['stars'], 1589: ['scoop'], 1590: ['sloop'], 1591: ['snoop'], 1592: ['stoop'], 1593: ['swoop', 'strop'], 1588: ['scoot', 'scour'], 1599: ['shoot', 'spoil', 'spoor', 'stool'], 1587: ['scout', 'stoat'], 1606: ['snore'], 1637: ['shorn'], 1601: ['shout', 'shirt'], 1602: ['snout', 'shift', 'shirk', 'skirt'], 1603: ['spout', 'shaft', 'swift', 'smirk', 'skirl'], 1586: ['stout'], 1581: ['scram', 'spray'], 1582: ['scrum', 'sprat'], 1580: ['scrap', 'stray'], 1579: ['strap'], 1577: ['scree', 'strew', 'three', 'throw'], 1578: ['spree', 'straw', 'throb'], 1576: ['screw', 'threw'], 1575: ['shrew'], 1583: ['scrub', 'serum', 'splat'], 1584: ['shrub', 'strum', 'split'], 2: ['scuds', 'stubs'], 1: ['studs'], 38: ['sleds', 'welds'], 431: ['sexes'], 430: ['vexes'], 883: ['shack'], 884: ['whack'], 666: ['shade'], 667: ['spade'], 918: ['shake'], 919: ['shame'], 1648: ['shave'], 994: ['shags'], 995: ['snags', 'shahs'], 996: ['stags'], 997: ['swags'], 917: ['stake'], 913: ['whale'], 1062: ['shall'], 1063: ['small', 'shawl'], 1061: ['stall'], 1065: ['shell'], 1550: ['thank', 'spank', 'shyer'], 1551: ['stank', 'thane'], 1444: ['shire', 'spicy'], 1649: ['slave'], 1647: ['shove', 'styli'], 1067: ['sheaf'], 1066: ['shelf'], 1068: ['shear'], 1069: ['smear'], 1070: ['spear'], 1071: ['swear'], 1075: ['sheen', 'tweed'], 1074: ['sheet', 'tweet'], 1081: ['steep', 'steal'], 1079: ['steer'], 1073: ['sweet'], 1064: ['smell'], 13: ['shied'], 14: ['skied'], 15: ['spied', 'skier'], 1574: ['shred'], 12: ['shies', 'unify'], 11: ['skies', 'unity'], 1097: ['skins', 'skimp', 'swims', 'slimy'], 1098: ['spins', 'slily', 'swiss'], 1443: ['spire', 'spiky'], 1600: ['short', 'stood'], 1598: ['shook', 'spool'], 1597: ['spook'], 1636: ['shown'], 1605: ['snort', 'twirl'], 1604: ['sport', 'swirl'], 1646: ['stove', 'smote', 'spoke', 'smoky', 'style', 'stony'], 1585: ['shrug', 'strut'], 925: ['skate'], 924: ['state'], 25: ['skews'], 24: ['spews'], 26: ['stews'], 10: ['skids', 'unite'], 1096: ['skims', 'slime'], 1095: ['slims'], 1102: ['swaps'], 937: ['smash', 'slosh'], 670: ['slice'], 1430: ['sting', 'stilt'], 1552: ['stink', 'stalk', 'stand'], 20: ['sneak'], 21: ['speak'], 19: ['steak'], 3: ['snubs'], 1200: ['soaks'], 1201: ['souks'], 120: ['soler'], 22: ['speck'], 23: ['specs'], 16: ['speed'], 17: ['steed'], 1596: ['spoof'], 1595: ['spoon'], 1594: ['swoon', 'strip'], 916: ['stage'], 18: ['stead'], 1080: ['steel'], 0: ['study'], 1101: ['swads'], 1072: ['sweat'], 1132: ['talks'], 968: ['thing', 'twins'], 635: ['trump'], 458: ['tuned'], 832: ['triad', 'trend'], 1036: ['waifs'], 912: ['while'], 289: ['yokel']}\n"
     ]
    }
   ],
   "source": [
    "def dfs(g):\n",
    "    for aVertex in g:\n",
    "        aVertex.setColor('white')\n",
    "        aVertex.setPred(-1)\n",
    "    g.getVertex('study').setDistance(0)\n",
    "    dfsvisit(g, g.getVertex('study'), 0)\n",
    "#     for aVertex in g:\n",
    "#         if aVertex.getColor() == 'white':\n",
    "#             dfsvisit(aVertex)\n",
    "\n",
    "def dfsvisit(g,startVertex, time):\n",
    "    startVertex.setColor('gray')\n",
    "    time += 1\n",
    "    startVertex.setDiscovery(time)\n",
    "    for nextVertex in startVertex.getConnections():\n",
    "        if nextVertex.getColor() == 'white':\n",
    "            nextVertex.setDistance(startVertex.getDistance() + 1)\n",
    "            nextVertex.setPred(startVertex)\n",
    "            dfsvisit(g, nextVertex, time)\n",
    "    startVertex.setColor('black')\n",
    "    time += 1\n",
    "    startVertex.setFinish(time)\n",
    "g, count_isolated = buildGraph('words5.txt')\n",
    "dfs(g)\n",
    "    distance_dict = {}\n",
    "    for v in g:\n",
    "        if v.getColor() == 'black':\n",
    "            if v.getDistance() in distance_dict:\n",
    "                distance_dict[v.getDistance()].append(v.id)\n",
    "            else:\n",
    "                distance_dict[v.getDistance()] = [v.id]\n",
    "    # print(distance_dict)\n",
    "    max_distance = np.max(list(distance_dict))\n",
    "    print(\"Maximum distance: \",max_distance)\n",
    "    print(distance_dict[max_distance])\n",
    "    print(distance_dict)"
   ]
  },
  {
   "cell_type": "code",
   "execution_count": null,
   "metadata": {},
   "outputs": [],
   "source": []
  }
 ],
 "metadata": {
  "kernelspec": {
   "display_name": "Python 3",
   "language": "python",
   "name": "python3"
  },
  "language_info": {
   "codemirror_mode": {
    "name": "ipython",
    "version": 3
   },
   "file_extension": ".py",
   "mimetype": "text/x-python",
   "name": "python",
   "nbconvert_exporter": "python",
   "pygments_lexer": "ipython3",
   "version": "3.7.1"
  }
 },
 "nbformat": 4,
 "nbformat_minor": 2
}
